{
  "cells": [
    {
      "cell_type": "markdown",
      "metadata": {
        "id": "y1HMD4oI7FL7"
      },
      "source": [
        "## Operators in Python\n",
        "\n",
        "- Arithmetic Operators\n",
        "- Relational Operators\n",
        "- Logical Operators\n",
        "- Bitwise Operators\n",
        "- Assignment Operators\n",
        "- Membership Operators"
      ]
    },
    {
      "cell_type": "code",
      "execution_count": null,
      "metadata": {
        "colab": {
          "base_uri": "https://localhost:8080/"
        },
        "id": "a7cegk-f7U4-",
        "outputId": "77490d0d-316e-4611-9cd7-8c99e64fca2a"
      },
      "outputs": [
        {
          "name": "stdout",
          "output_type": "stream",
          "text": [
            "11\n",
            "-1\n",
            "30\n",
            "2.5\n",
            "2\n",
            "1\n",
            "25\n"
          ]
        }
      ],
      "source": [
        "# Arithmetric Operators\n",
        "print(5+6)\n",
        "\n",
        "print(5-6)\n",
        "\n",
        "print(5*6)\n",
        "\n",
        "print(5/2)\n",
        "\n",
        "print(5//2)\n",
        "\n",
        "print(5%2)\n",
        "\n",
        "print(5**2)"
      ]
    },
    {
      "cell_type": "code",
      "execution_count": 1,
      "metadata": {
        "colab": {
          "base_uri": "https://localhost:8080/"
        },
        "id": "TMIQKhFd7Y5A",
        "outputId": "573867e9-962a-45a6-a313-dcaa8b9a6406"
      },
      "outputs": [
        {
          "name": "stdout",
          "output_type": "stream",
          "text": [
            "False\n",
            "True\n",
            "True\n",
            "True\n",
            "True\n",
            "False\n"
          ]
        }
      ],
      "source": [
        "# Relational Operators\n",
        "print(4>5)\n",
        "\n",
        "print(4<5)\n",
        "\n",
        "print(4>=4)\n",
        "\n",
        "print(4<=4)\n",
        "\n",
        "print(4==4)\n",
        "\n",
        "print(4!=4)"
      ]
    },
    {
      "cell_type": "code",
      "execution_count": 2,
      "metadata": {
        "colab": {
          "base_uri": "https://localhost:8080/"
        },
        "id": "vyxdjDbc7avq",
        "outputId": "4c6a1710-fea3-466c-f6b2-f98de20a2a0b"
      },
      "outputs": [
        {
          "name": "stdout",
          "output_type": "stream",
          "text": [
            "0\n",
            "1\n",
            "False\n"
          ]
        }
      ],
      "source": [
        "# Logical Operators\n",
        "print(1 and 0)\n",
        "\n",
        "print(1 or 0)\n",
        "\n",
        "print(not 1)"
      ]
    },
    {
      "cell_type": "code",
      "execution_count": 3,
      "metadata": {
        "colab": {
          "base_uri": "https://localhost:8080/"
        },
        "id": "H4KzpSke7d9l",
        "outputId": "5832a648-6430-425c-8fa7-8dbad5d8d4b3"
      },
      "outputs": [
        {
          "name": "stdout",
          "output_type": "stream",
          "text": [
            "2\n",
            "3\n",
            "1\n",
            "-4\n",
            "1\n",
            "20\n"
          ]
        }
      ],
      "source": [
        "# Bitwise Operators\n",
        "\n",
        "# bitwise and\n",
        "print(2 & 3)\n",
        "\n",
        "# bitwise or\n",
        "print(2 | 3)\n",
        "\n",
        "# bitwise xor\n",
        "print(2 ^ 3)\n",
        "\n",
        "print(~3)\n",
        "\n",
        "print(4 >> 2)\n",
        "\n",
        "print(5 << 2)"
      ]
    },
    {
      "cell_type": "code",
      "execution_count": 4,
      "metadata": {
        "colab": {
          "base_uri": "https://localhost:8080/"
        },
        "id": "8EEm8eHO7gD_",
        "outputId": "a421f118-2ee3-42da-91ff-3cd06de41755"
      },
      "outputs": [
        {
          "name": "stdout",
          "output_type": "stream",
          "text": [
            "0\n"
          ]
        }
      ],
      "source": [
        "# Assignment Operators\n",
        "\n",
        "# =\n",
        "# a = 2\n",
        "\n",
        "a = 2\n",
        "\n",
        "# a = a % 2\n",
        "a %= 2\n",
        "\n",
        "# a++ ++a\n",
        "\n",
        "print(a)"
      ]
    },
    {
      "cell_type": "code",
      "execution_count": 5,
      "metadata": {
        "colab": {
          "base_uri": "https://localhost:8080/"
        },
        "id": "LzrIz7I87h-W",
        "outputId": "d362a8a0-bbae-406f-bd33-fc6fe789e889"
      },
      "outputs": [
        {
          "name": "stdout",
          "output_type": "stream",
          "text": [
            "False\n",
            "False\n"
          ]
        }
      ],
      "source": [
        "# Membership Operators\n",
        "\n",
        "# in/not in\n",
        "\n",
        "print('D' not in 'Delhi')\n",
        "\n",
        "print(1 in [2,3,4,5,6])"
      ]
    },
    {
      "cell_type": "code",
      "execution_count": null,
      "metadata": {
        "colab": {
          "base_uri": "https://localhost:8080/"
        },
        "id": "C-LoVrYGDEuB",
        "outputId": "5842d198-7b4f-4785-cec7-5735603ab873"
      },
      "outputs": [
        {
          "name": "stdout",
          "output_type": "stream",
          "text": [
            "Enter a 3 digit number666\n",
            "18\n"
          ]
        }
      ],
      "source": [
        "# Program - Find the sum of a 3 digit number entered by the user\n",
        "\n",
        "number = int(input('Enter a 3 digit number'))\n",
        "\n",
        "# 345%10 -> 5\n",
        "a = number%10\n",
        "\n",
        "number = number//10\n",
        "\n",
        "# 34%10 -> 4\n",
        "b = number % 10\n",
        "\n",
        "number = number//10\n",
        "# 3 % 10 -> 3\n",
        "c = number % 10\n",
        "\n",
        "print(a + b + c)"
      ]
    },
    {
      "cell_type": "markdown",
      "metadata": {
        "id": "Iq7CzVFs7mWT"
      },
      "source": [
        "## If-else in Python"
      ]
    },
    {
      "cell_type": "code",
      "execution_count": 6,
      "metadata": {
        "colab": {
          "base_uri": "https://localhost:8080/"
        },
        "id": "dGz-83pN7oxe",
        "outputId": "01cd71cf-6af3-464a-dcc1-8c21be5e092c"
      },
      "outputs": [
        {
          "name": "stdout",
          "output_type": "stream",
          "text": [
            "Welcome\n"
          ]
        }
      ],
      "source": [
        "# login program and indentation\n",
        "# email -> aakashchaudhary429@gmail.com\n",
        "# password -> 1234\n",
        "\n",
        "email = input('enter email')\n",
        "password = input('enter password')\n",
        "\n",
        "if email == 'aakashchaudhary429@gmail.com' and password == '1234':\n",
        "  print('Welcome')\n",
        "elif email == 'aakashchaudhary429@gmail.com' and password != '1234':\n",
        "  # tell the user\n",
        "  print('Incorrect password')\n",
        "  password = input('enter password again')\n",
        "  if password == '1234':\n",
        "    print('Welcome,finally!')\n",
        "  else:\n",
        "    print('beta tumse na ho paayega!')\n",
        "else:\n",
        "  print('Not correct')"
      ]
    },
    {
      "cell_type": "code",
      "execution_count": null,
      "metadata": {
        "id": "qo_1tY2ABlAX"
      },
      "outputs": [],
      "source": [
        "# if-else examples\n",
        "# 1. Find the min of 3 given numbers\n",
        "# 2. Menu Driven Program"
      ]
    },
    {
      "cell_type": "code",
      "execution_count": 7,
      "metadata": {
        "colab": {
          "base_uri": "https://localhost:8080/"
        },
        "id": "gQpTJbMH3W6_",
        "outputId": "3a2ff0d1-a8d2-4b41-eb50-49612c57b612"
      },
      "outputs": [
        {
          "name": "stdout",
          "output_type": "stream",
          "text": [
            "smallest is 2\n"
          ]
        }
      ],
      "source": [
        "# min of 3 number\n",
        "\n",
        "a = int(input('first num'))\n",
        "b = int(input('second num'))\n",
        "c = int(input('third num'))\n",
        "\n",
        "if a<b and a<c:\n",
        "  print('smallest is',a)\n",
        "elif b<c:\n",
        "  print('smallest is',b)\n",
        "else:\n",
        "  print('smallest is',c)"
      ]
    },
    {
      "cell_type": "code",
      "execution_count": 8,
      "metadata": {
        "colab": {
          "base_uri": "https://localhost:8080/"
        },
        "id": "hgNqlC5C4jqF",
        "outputId": "d9a4e001-985d-46fe-fdf4-2767dde7d340"
      },
      "outputs": [
        {
          "name": "stdout",
          "output_type": "stream",
          "text": [
            "pin change\n"
          ]
        }
      ],
      "source": [
        "# menu driven calculator\n",
        "menu = input(\"\"\"\n",
        "Hi! how can I help you.\n",
        "1. Enter 1 for pin change\n",
        "2. Enter 2 for balance check\n",
        "3. Enter 3 for withdrawl\n",
        "4. Enter 4 for exit\n",
        "\"\"\")\n",
        "\n",
        "if menu == '1':\n",
        "  print('pin change')\n",
        "elif menu == '2':\n",
        "  print('balance')\n",
        "else:\n",
        "  print('exit')"
      ]
    },
    {
      "cell_type": "markdown",
      "metadata": {
        "id": "532_6mva8A6C"
      },
      "source": [
        "## Modules in Python\n",
        "\n",
        "- math\n",
        "- keywords\n",
        "- random\n",
        "- datetime"
      ]
    },
    {
      "cell_type": "code",
      "execution_count": 10,
      "metadata": {
        "colab": {
          "base_uri": "https://localhost:8080/"
        },
        "id": "x5VXt7wv8G4o",
        "outputId": "0f191ca5-e4c3-4c79-ecf2-dcbd23cbd770"
      },
      "outputs": [
        {
          "data": {
            "text/plain": [
              "14.0"
            ]
          },
          "execution_count": 10,
          "metadata": {},
          "output_type": "execute_result"
        }
      ],
      "source": [
        "# math\n",
        "import math\n",
        "\n",
        "math.sqrt(196)"
      ]
    },
    {
      "cell_type": "code",
      "execution_count": 9,
      "metadata": {
        "colab": {
          "base_uri": "https://localhost:8080/"
        },
        "id": "FLgAX9pz8HBT",
        "outputId": "63de6b39-b796-475b-9b7d-fa22f2019c90"
      },
      "outputs": [
        {
          "name": "stdout",
          "output_type": "stream",
          "text": [
            "['False', 'None', 'True', 'and', 'as', 'assert', 'async', 'await', 'break', 'class', 'continue', 'def', 'del', 'elif', 'else', 'except', 'finally', 'for', 'from', 'global', 'if', 'import', 'in', 'is', 'lambda', 'nonlocal', 'not', 'or', 'pass', 'raise', 'return', 'try', 'while', 'with', 'yield']\n"
          ]
        }
      ],
      "source": [
        "# keyword\n",
        "import keyword\n",
        "print(keyword.kwlist)"
      ]
    },
    {
      "cell_type": "code",
      "execution_count": 11,
      "metadata": {
        "colab": {
          "base_uri": "https://localhost:8080/"
        },
        "id": "R0dWpe-w8HSZ",
        "outputId": "3aa87b74-0699-47d7-8316-73de80dbfeb1"
      },
      "outputs": [
        {
          "name": "stdout",
          "output_type": "stream",
          "text": [
            "41\n"
          ]
        }
      ],
      "source": [
        "# random\n",
        "import random\n",
        "print(random.randint(1,100))"
      ]
    },
    {
      "cell_type": "code",
      "execution_count": 12,
      "metadata": {
        "colab": {
          "base_uri": "https://localhost:8080/"
        },
        "id": "XNHWXsM0iFn3",
        "outputId": "7d219248-ba98-4b2e-a382-57630acea35c"
      },
      "outputs": [
        {
          "name": "stdout",
          "output_type": "stream",
          "text": [
            "2025-09-08 16:37:20.224637\n"
          ]
        }
      ],
      "source": [
        "# datetime\n",
        "import datetime\n",
        "print(datetime.datetime.now())"
      ]
    },
    {
      "cell_type": "code",
      "execution_count": 13,
      "metadata": {
        "colab": {
          "base_uri": "https://localhost:8080/"
        },
        "id": "ePMxrlzX8CsQ",
        "outputId": "719443f9-8cb6-48fc-9a02-dee02625fc8f"
      },
      "outputs": [
        {
          "name": "stdout",
          "output_type": "stream",
          "text": [
            "\n",
            "Please wait a moment while I gather a list of all available modules...\n",
            "\n",
            "test_sqlite3: testing with SQLite version 3.49.1\n"
          ]
        },
        {
          "data": {
            "text/html": [
              "\n",
              "            <div>\n",
              "                <ins><a href=\"https://ydata.ai/register\">Upgrade to ydata-sdk</a></ins>\n",
              "                <p>\n",
              "                    Improve your data and profiling with ydata-sdk, featuring data quality scoring, redundancy detection, outlier identification, text validation, and synthetic data generation.\n",
              "                </p>\n",
              "            </div>\n",
              "            "
            ],
            "text/plain": [
              "<IPython.core.display.HTML object>"
            ]
          },
          "metadata": {},
          "output_type": "display_data"
        },
        {
          "name": "stderr",
          "output_type": "stream",
          "text": [
            "c:\\Users\\Admin\\AppData\\Local\\Programs\\Python\\Python312\\Lib\\site-packages\\pydantic\\experimental\\__init__.py:7: PydanticExperimentalWarning: This module is experimental, its contents are subject to change and deprecation.\n",
            "  warnings.warn(\n"
          ]
        },
        {
          "name": "stdout",
          "output_type": "stream",
          "text": [
            "IPython             arrow               lib2to3             sre_parse\n",
            "PIL                 ast                 linecache           ssl\n",
            "__future__          asttokens           llvmlite            sspi\n",
            "__hello__           async_lru           locale              sspicon\n",
            "__phello__          asyncio             logging             stack_data\n",
            "_abc                atexit              lzma                start_pythonwin\n",
            "_aix_support        attr                mailbox             stat\n",
            "_argon2_cffi_bindings attrs               mailcap             statistics\n",
            "_ast                audioop             markupsafe          statsmodels\n",
            "_asyncio            autocommand         marshal             string\n",
            "_asyncio_d          babel               math                stringprep\n",
            "_bisect             backports           matplotlib          struct\n",
            "_blake2             base64              matplotlib_inline   subprocess\n",
            "_bz2                bdb                 mimetypes           sunau\n",
            "_bz2_d              binascii            mistune             symtable\n",
            "_cffi_backend       bisect              mmap                sys\n",
            "_codecs             bleach              mmapfile            sysconfig\n",
            "_codecs_cn          bs4                 mmsystem            tabnanny\n",
            "_codecs_hk          builtins            modulefinder        tarfile\n",
            "_codecs_iso2022     bz2                 more_itertools      telnetlib\n",
            "_codecs_jp          cProfile            msilib              tempfile\n",
            "_codecs_kr          calendar            msvcrt              terminado\n",
            "_codecs_tw          certifi             multimethod         test\n",
            "_collections        cffi                multiprocessing     textwrap\n",
            "_collections_abc    cgi                 nbclient            this\n",
            "_compat_pickle      cgitb               nbconvert           threading\n",
            "_compression        charset_normalizer  nbformat            time\n",
            "_contextvars        chunk               nest_asyncio        timeit\n",
            "_csv                cmath               netbios             timer\n",
            "_ctypes             cmd                 netrc               tinycss2\n",
            "_ctypes_d           code                networkx            tkinter\n",
            "_ctypes_test        codecs              nntplib             token\n",
            "_ctypes_test_d      codeop              notebook            tokenize\n",
            "_datetime           collections         notebook_shim       tomli\n",
            "_decimal            colorama            nt                  tomllib\n",
            "_decimal_d          colorsys            ntpath              tornado\n",
            "_distutils_hack     comm                ntsecuritycon       tqdm\n",
            "_elementtree        commctrl            nturl2path          trace\n",
            "_elementtree_d      compileall          numba               traceback\n",
            "_functools          concurrent          numbers             tracemalloc\n",
            "_hashlib            configparser        numpy               traitlets\n",
            "_hashlib_d          contextlib          odbc                tty\n",
            "_heapq              contextvars         opcode              turtle\n",
            "_imp                contourpy           operator            turtledemo\n",
            "_io                 copy                optparse            typeguard\n",
            "_json               copyreg             os                  types\n",
            "_locale             crypt               overrides           typing\n",
            "_lsprof             csv                 packaging           typing_extensions\n",
            "_lzma               ctypes              pandas              typing_inspection\n",
            "_lzma_d             curses              pandas_profiling    tzdata\n",
            "_markupbase         cycler              pandocfilters       unicodedata\n",
            "_md5                dacite              parso               unicodedata_d\n",
            "_msi                dataclasses         pathlib             unittest\n",
            "_msi_d              datetime            patsy               uri_template\n",
            "_multibytecodec     dateutil            pdb                 urllib\n",
            "_multiprocessing    dbm                 perfmon             urllib3\n",
            "_multiprocessing_d  dde                 phik                uu\n",
            "_opcode             debugpy             pickle              uuid\n",
            "_operator           decimal             pickletools         venv\n",
            "_osx_support        decorator           pip                 visions\n",
            "_overlapped         defusedxml          pipes               warnings\n",
            "_overlapped_d       difflib             pkg_resources       wave\n",
            "_pickle             dis                 pkgutil             wcwidth\n",
            "_py_abc             doctest             platform            weakref\n",
            "_pydatetime         email               platformdirs        webbrowser\n",
            "_pydecimal          encodings           plistlib            webcolors\n",
            "_pyio               ensurepip           poplib              webencodings\n",
            "_pylong             enum                posixpath           websocket\n",
            "_queue              errno               pprint              wheel\n",
            "_queue_d            executing           profile             widgetsnbextension\n",
            "_random             fastjsonschema      prometheus_client   win2kras\n",
            "_sha1               faulthandler        prompt_toolkit      win32api\n",
            "_sha2               filecmp             pstats              win32clipboard\n",
            "_sha3               fileinput           psutil              win32com\n",
            "_signal             fnmatch             pty                 win32con\n",
            "_sitebuiltins       fontTools           pure_eval           win32console\n",
            "_socket             fqdn                puremagic           win32cred\n",
            "_socket_d           fractions           py_compile          win32crypt\n",
            "_sqlite3            ftplib              pyclbr              win32cryptcon\n",
            "_sqlite3_d          functools           pycparser           win32event\n",
            "_sre                gc                  pydantic            win32evtlog\n",
            "_ssl                genericpath         pydantic_core       win32evtlogutil\n",
            "_ssl_d              getopt              pydoc               win32file\n",
            "_stat               getpass             pydoc_data          win32gui\n",
            "_statistics         gettext             pyexpat             win32gui_struct\n",
            "_string             glob                pyexpat_d           win32help\n",
            "_strptime           graphlib            pygments            win32inet\n",
            "_struct             gzip                pylab               win32inetcon\n",
            "_symtable           h11                 pyparsing           win32job\n",
            "_testbuffer         hashlib             pythoncom           win32lz\n",
            "_testbuffer_d       heapq               pythonjsonlogger    win32net\n",
            "_testcapi           hmac                pytz                win32netcon\n",
            "_testcapi_d         html                pywin               win32pdh\n",
            "_testclinic         htmlmin             pywin32_bootstrap   win32pdhquery\n",
            "_testclinic_d       http                pywin32_testutil    win32pdhutil\n",
            "_testconsole        httpcore            pywintypes          win32pipe\n",
            "_testconsole_d      httpx               pywt                win32print\n",
            "_testimportmultiple idlelib             queue               win32process\n",
            "_testimportmultiple_d idna                quopri              win32profile\n",
            "_testinternalcapi   imagehash           random              win32ras\n",
            "_testinternalcapi_d imaplib             rasutil             win32rcparser\n",
            "_testmultiphase     imghdr              re                  win32security\n",
            "_testmultiphase_d   importlib           referencing         win32service\n",
            "_testsinglephase    importlib_metadata  regcheck            win32serviceutil\n",
            "_testsinglephase_d  inflect             regutil             win32timezone\n",
            "_thread             inspect             reprlib             win32trace\n",
            "_threading_local    io                  requests            win32traceutil\n",
            "_tkinter            ipaddress           rfc3339_validator   win32transaction\n",
            "_tkinter_d          ipykernel           rfc3986_validator   win32ts\n",
            "_tokenize           ipykernel_launcher  rfc3987_syntax      win32ui\n",
            "_tracemalloc        ipython_pygments_lexers rlcompleter         win32uiole\n",
            "_typing             ipywidgets          rpds                win32verstamp\n",
            "_uuid               isapi               runpy               win32wnet\n",
            "_uuid_d             isoduration         sched               winerror\n",
            "_warnings           itertools           scipy               winioctlcon\n",
            "_weakref            jedi                seaborn             winnt\n",
            "_weakrefset         jinja2              secrets             winperf\n",
            "_win32sysloader     joblib              select              winpty\n",
            "_win32verstamp_pywin32ctypes json                select_d            winreg\n",
            "_winapi             json5               selectors           winsound\n",
            "_winxptheme         jsonpointer         send2trash          winsound_d\n",
            "_wmi                jsonschema          servicemanager      winxpgui\n",
            "_wmi_d              jsonschema_specifications setuptools          winxptheme\n",
            "_xxinterpchannels   jupyter             shelve              wordcloud\n",
            "_xxsubinterpreters  jupyter_client      shlex               wsgiref\n",
            "_yaml               jupyter_console     shutil              xdrlib\n",
            "_zoneinfo           jupyter_core        signal              xml\n",
            "_zoneinfo_d         jupyter_events      site                xmlrpc\n",
            "abc                 jupyter_lsp         six                 xxsubtype\n",
            "adodbapi            jupyter_server      smtplib             yaml\n",
            "afxres              jupyter_server_terminals sndhdr              ydata_profiling\n",
            "aifc                jupyterlab          sniffio             zipapp\n",
            "annotated_types     jupyterlab_pygments socket              zipfile\n",
            "antigravity         jupyterlab_server   socketserver        zipimport\n",
            "anyio               jupyterlab_widgets  soupsieve           zipp\n",
            "argon2              keyword             sqlite3             zlib\n",
            "argparse            kiwisolver          sre_compile         zmq\n",
            "array               lark                sre_constants       zoneinfo\n",
            "\n",
            "Enter any module name to get more help.  Or, type \"modules spam\" to search\n",
            "for modules whose name or summary contain the string \"spam\".\n",
            "\n"
          ]
        }
      ],
      "source": [
        "help('modules')"
      ]
    },
    {
      "cell_type": "markdown",
      "metadata": {
        "id": "2Ow6_gWG7ukc"
      },
      "source": [
        "## Loops in Python\n",
        "\n",
        "- Need for loops\n",
        "- While Loop\n",
        "- For Loop"
      ]
    },
    {
      "cell_type": "code",
      "execution_count": null,
      "metadata": {
        "id": "Ig7NIb7L7txg"
      },
      "outputs": [],
      "source": [
        "# While loop example -> program to print the table\n",
        "# Program -> Sum of all digits of a given number\n",
        "# Program -> keep accepting numbers from users till he/she enters a 0 and then find the avg"
      ]
    },
    {
      "cell_type": "code",
      "execution_count": 14,
      "metadata": {
        "colab": {
          "base_uri": "https://localhost:8080/"
        },
        "id": "brWSxgiu9rrQ",
        "outputId": "eb64e76c-ee60-4584-9d00-9fd6729d39e8"
      },
      "outputs": [
        {
          "name": "stdout",
          "output_type": "stream",
          "text": [
            "12 * 1 = 12\n",
            "12 * 2 = 24\n",
            "12 * 3 = 36\n",
            "12 * 4 = 48\n",
            "12 * 5 = 60\n",
            "12 * 6 = 72\n",
            "12 * 7 = 84\n",
            "12 * 8 = 96\n",
            "12 * 9 = 108\n",
            "12 * 10 = 120\n"
          ]
        }
      ],
      "source": [
        "number = int(input('enter the number'))\n",
        "\n",
        "i = 1\n",
        "\n",
        "while i<11:\n",
        "  print(number,'*',i,'=',number * i)\n",
        "  i += 1"
      ]
    },
    {
      "cell_type": "code",
      "execution_count": 20,
      "metadata": {
        "colab": {
          "base_uri": "https://localhost:8080/"
        },
        "id": "Ltsr9n3H73fp",
        "outputId": "a47f2a11-bf75-4a0a-923c-49f318514900"
      },
      "outputs": [
        {
          "name": "stdout",
          "output_type": "stream",
          "text": [
            "1\n",
            "2\n",
            "3\n",
            "4\n",
            "5\n",
            "6\n",
            "7\n",
            "limit crossed\n"
          ]
        }
      ],
      "source": [
        "# while loop with else\n",
        "\n",
        "x = 1\n",
        "\n",
        "while x < 8:\n",
        "  print(x)\n",
        "  x += 1\n",
        "\n",
        "else:\n",
        "  print('limit crossed')"
      ]
    },
    {
      "cell_type": "code",
      "execution_count": 22,
      "metadata": {
        "colab": {
          "base_uri": "https://localhost:8080/"
        },
        "id": "29y5r2cr8MRP",
        "outputId": "c4d707ce-6f6c-49cc-8997-a85ecf01e74e"
      },
      "outputs": [
        {
          "name": "stdout",
          "output_type": "stream",
          "text": [
            "galat!guess higher\n",
            "galat!guess higher\n",
            "galat!guess lower\n",
            "galat!guess higher\n",
            "galat!guess higher\n",
            "galat!guess higher\n",
            "galat!guess higher\n",
            "galat!guess lower\n",
            "correct guess\n",
            "attempts 9\n"
          ]
        }
      ],
      "source": [
        "# Guessing game\n",
        "\n",
        "# generate a random integer between 1 and 100\n",
        "import random\n",
        "jackpot = random.randint(1,100)\n",
        "\n",
        "guess = int(input('guess karo'))\n",
        "counter = 1\n",
        "while guess != jackpot:\n",
        "  if guess < jackpot:\n",
        "    print('galat!guess higher')\n",
        "  else:\n",
        "    print('galat!guess lower')\n",
        "\n",
        "  guess = int(input('guess karo'))\n",
        "  counter += 1\n",
        "\n",
        "else:\n",
        "  print('correct guess')\n",
        "  print('attempts',counter)\n",
        "\n",
        "\n"
      ]
    },
    {
      "cell_type": "code",
      "execution_count": null,
      "metadata": {
        "colab": {
          "base_uri": "https://localhost:8080/"
        },
        "id": "bjjx0fMr8SWh",
        "outputId": "a3bf4676-a68c-499f-fc00-e0fe0f04285b"
      },
      "outputs": [
        {
          "name": "stdout",
          "output_type": "stream",
          "text": [
            "1\n",
            "2\n",
            "3\n",
            "4\n",
            "5\n"
          ]
        }
      ],
      "source": [
        "# For loop demo\n",
        "\n",
        "for i in {1,2,3,4,5}:\n",
        "  print(i)"
      ]
    },
    {
      "cell_type": "code",
      "execution_count": null,
      "metadata": {
        "id": "5ZLWEyFn8g1R"
      },
      "outputs": [],
      "source": [
        "# For loop examples"
      ]
    },
    {
      "cell_type": "markdown",
      "metadata": {
        "id": "EXnzCtohWx2V"
      },
      "source": [
        "### Program - The current population of a town is 10000. The population of the town is increasing at the rate of 10% per year. You have to write a program to find out the population at the end of each of the last 10 years."
      ]
    },
    {
      "cell_type": "code",
      "execution_count": null,
      "metadata": {
        "colab": {
          "base_uri": "https://localhost:8080/"
        },
        "id": "Nc_6lslRW03g",
        "outputId": "80e461e9-7ff9-46c1-819d-a5ee314fa91e"
      },
      "outputs": [
        {
          "name": "stdout",
          "output_type": "stream",
          "text": [
            "10 10000\n",
            "9 9090.90909090909\n",
            "8 8264.462809917353\n",
            "7 7513.148009015775\n",
            "6 6830.134553650703\n",
            "5 6209.213230591548\n",
            "4 5644.739300537771\n",
            "3 5131.5811823070635\n",
            "2 4665.07380209733\n",
            "1 4240.976183724845\n"
          ]
        }
      ],
      "source": [
        "# Code Used in the session\n",
        "curr_pop = 10000\n",
        "\n",
        "for i in range(10,0,-1):\n",
        "  print(i,curr_pop)\n",
        "  curr_pop = curr_pop - 0.1*curr_pop\n"
      ]
    },
    {
      "cell_type": "code",
      "execution_count": null,
      "metadata": {
        "id": "TPXkdE9hI7dm"
      },
      "outputs": [],
      "source": [
        "# Correct Answer of above question:\n",
        "curr_pop = 10000\n",
        "\n",
        "for i in range(10,0,-1):\n",
        "  print(i,curr_pop)\n",
        "  curr_pop /= 1.1\n"
      ]
    },
    {
      "cell_type": "markdown",
      "metadata": {
        "id": "kB-F1EYdJ-XU"
      },
      "source": [
        "#### Explanation :\n",
        "\n",
        "\n",
        "\n",
        "To calculate the population for each year with a 10% increase, you can use a simpler equation based on the previous year's population. Let's assume the population of the previous year is represented by variable x.\n",
        "\n",
        "The equation can be written as:\n",
        "\n",
        "> Current Year Population = x * 1.1\n",
        "\n",
        "In this equation, the current year's population is equal to the previous year's population multiplied by 1.1, representing a 10% increase.\n",
        "\n",
        "To find the population of the previous year (x), we can rearrange the equation as follows:\n",
        "\n",
        "> x = Current Year Population / 1.1\n",
        "\n",
        "Using this simplified equation, if you have the current year's population (e.g., 10,000), you can divide it by 1.1 to calculate the population of the previous year.\n",
        "\n",
        "This equation allows you to calculate the population for each year, assuming you know the population of the current year and want to find the population of the previous year."
      ]
    },
    {
      "cell_type": "markdown",
      "metadata": {},
      "source": [
        "## Phir milte hai ! "
      ]
    }
  ],
  "metadata": {
    "colab": {
      "provenance": []
    },
    "kernelspec": {
      "display_name": "Python 3",
      "name": "python3"
    },
    "language_info": {
      "codemirror_mode": {
        "name": "ipython",
        "version": 3
      },
      "file_extension": ".py",
      "mimetype": "text/x-python",
      "name": "python",
      "nbconvert_exporter": "python",
      "pygments_lexer": "ipython3",
      "version": "3.12.10"
    }
  },
  "nbformat": 4,
  "nbformat_minor": 0
}
